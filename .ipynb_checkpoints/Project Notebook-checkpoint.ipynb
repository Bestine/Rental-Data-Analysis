{
 "cells": [
  {
   "cell_type": "markdown",
   "id": "3dbc54dd",
   "metadata": {},
   "source": [
    "**Load the required libraries and data**"
   ]
  },
  {
   "cell_type": "code",
   "execution_count": 1,
   "id": "3b8c5d1d",
   "metadata": {},
   "outputs": [],
   "source": [
    "# Load the libraries\n",
    "import pandas as pd \n",
    "import numpy as np\n",
    "from matplotlib import pyplot as plt\n",
    "import seaborn as sns"
   ]
  },
  {
   "cell_type": "code",
   "execution_count": 2,
   "id": "8841b4a2",
   "metadata": {},
   "outputs": [],
   "source": [
    "# Load the data\n",
    "May = pd.read_excel(\"data/May.xlsx\")\n",
    "June = pd.read_excel(\"data/June.xlsx\")\n",
    "July = pd.read_excel(\"data/July.xlsx\")"
   ]
  },
  {
   "cell_type": "markdown",
   "id": "5a04ba86",
   "metadata": {},
   "source": [
    "# Explanatory Data Analysis\n",
    "## Data Inspection and Cleaning \n",
    "View the first five rows of each dataset"
   ]
  },
  {
   "cell_type": "code",
   "execution_count": 3,
   "id": "2a91e940",
   "metadata": {},
   "outputs": [
    {
     "data": {
      "text/html": [
       "<div>\n",
       "<style scoped>\n",
       "    .dataframe tbody tr th:only-of-type {\n",
       "        vertical-align: middle;\n",
       "    }\n",
       "\n",
       "    .dataframe tbody tr th {\n",
       "        vertical-align: top;\n",
       "    }\n",
       "\n",
       "    .dataframe thead th {\n",
       "        text-align: right;\n",
       "    }\n",
       "</style>\n",
       "<table border=\"1\" class=\"dataframe\">\n",
       "  <thead>\n",
       "    <tr style=\"text-align: right;\">\n",
       "      <th></th>\n",
       "      <th>Title</th>\n",
       "      <th>Price</th>\n",
       "      <th>Area</th>\n",
       "      <th>Bed</th>\n",
       "      <th>Bath</th>\n",
       "      <th>Furnished</th>\n",
       "    </tr>\n",
       "  </thead>\n",
       "  <tbody>\n",
       "    <tr>\n",
       "      <th>0</th>\n",
       "      <td>2 Bed Flat, Turner House, WC2R</td>\n",
       "      <td>£5,000 per month</td>\n",
       "      <td>0.43 km</td>\n",
       "      <td>2.0</td>\n",
       "      <td>2</td>\n",
       "      <td>Furnished</td>\n",
       "    </tr>\n",
       "    <tr>\n",
       "      <th>1</th>\n",
       "      <td>1 Bed Flat, Bank Chambers, SW1Y</td>\n",
       "      <td>£2,578 per month</td>\n",
       "      <td>0.56 km</td>\n",
       "      <td>1.0</td>\n",
       "      <td>1</td>\n",
       "      <td>Furnished</td>\n",
       "    </tr>\n",
       "    <tr>\n",
       "      <th>2</th>\n",
       "      <td>Studio Flat, Shaftesbury Avenue, W1D</td>\n",
       "      <td>£2,000 per month</td>\n",
       "      <td>0.57 km</td>\n",
       "      <td>NaN</td>\n",
       "      <td>1</td>\n",
       "      <td>Furnished</td>\n",
       "    </tr>\n",
       "    <tr>\n",
       "      <th>3</th>\n",
       "      <td>2 Bed Flat, Rupert Street, W1D</td>\n",
       "      <td>£3,000 per month</td>\n",
       "      <td>0.65 km</td>\n",
       "      <td>2.0</td>\n",
       "      <td>2</td>\n",
       "      <td>Furnished</td>\n",
       "    </tr>\n",
       "    <tr>\n",
       "      <th>4</th>\n",
       "      <td>1 Bed Flat, Old Compton Street, W1D</td>\n",
       "      <td>£1,950 per month</td>\n",
       "      <td>0.73 km</td>\n",
       "      <td>1.0</td>\n",
       "      <td>1</td>\n",
       "      <td>Furnished</td>\n",
       "    </tr>\n",
       "  </tbody>\n",
       "</table>\n",
       "</div>"
      ],
      "text/plain": [
       "                                  Title             Price     Area  Bed  Bath  \\\n",
       "0        2 Bed Flat, Turner House, WC2R  £5,000 per month  0.43 km  2.0     2   \n",
       "1       1 Bed Flat, Bank Chambers, SW1Y  £2,578 per month  0.56 km  1.0     1   \n",
       "2  Studio Flat, Shaftesbury Avenue, W1D  £2,000 per month  0.57 km  NaN     1   \n",
       "3        2 Bed Flat, Rupert Street, W1D  £3,000 per month  0.65 km  2.0     2   \n",
       "4   1 Bed Flat, Old Compton Street, W1D  £1,950 per month  0.73 km  1.0     1   \n",
       "\n",
       "   Furnished  \n",
       "0  Furnished  \n",
       "1  Furnished  \n",
       "2  Furnished  \n",
       "3  Furnished  \n",
       "4  Furnished  "
      ]
     },
     "execution_count": 3,
     "metadata": {},
     "output_type": "execute_result"
    }
   ],
   "source": [
    "May.head()"
   ]
  },
  {
   "cell_type": "code",
   "execution_count": 4,
   "id": "70e9ac8c",
   "metadata": {},
   "outputs": [
    {
     "data": {
      "text/html": [
       "<div>\n",
       "<style scoped>\n",
       "    .dataframe tbody tr th:only-of-type {\n",
       "        vertical-align: middle;\n",
       "    }\n",
       "\n",
       "    .dataframe tbody tr th {\n",
       "        vertical-align: top;\n",
       "    }\n",
       "\n",
       "    .dataframe thead th {\n",
       "        text-align: right;\n",
       "    }\n",
       "</style>\n",
       "<table border=\"1\" class=\"dataframe\">\n",
       "  <thead>\n",
       "    <tr style=\"text-align: right;\">\n",
       "      <th></th>\n",
       "      <th>Title</th>\n",
       "      <th>Price</th>\n",
       "      <th>Area</th>\n",
       "      <th>Bed</th>\n",
       "      <th>Bath</th>\n",
       "      <th>Furnished</th>\n",
       "    </tr>\n",
       "  </thead>\n",
       "  <tbody>\n",
       "    <tr>\n",
       "      <th>0</th>\n",
       "      <td>2 Bed Flat, Villiers Street, WC2N</td>\n",
       "      <td>£2,600 per month</td>\n",
       "      <td>0.29 km</td>\n",
       "      <td>2.0</td>\n",
       "      <td>1</td>\n",
       "      <td>Furnished</td>\n",
       "    </tr>\n",
       "    <tr>\n",
       "      <th>1</th>\n",
       "      <td>2 Bed Flat, Bedfordbury, WC2N</td>\n",
       "      <td>£8,333 per month</td>\n",
       "      <td>0.4 km</td>\n",
       "      <td>2.0</td>\n",
       "      <td>2</td>\n",
       "      <td>Furnished</td>\n",
       "    </tr>\n",
       "    <tr>\n",
       "      <th>2</th>\n",
       "      <td>1 Bed Flat, Bedford Street, WC2E</td>\n",
       "      <td>£2,362 per month</td>\n",
       "      <td>0.42 km</td>\n",
       "      <td>1.0</td>\n",
       "      <td>1</td>\n",
       "      <td>Unfurnished</td>\n",
       "    </tr>\n",
       "    <tr>\n",
       "      <th>3</th>\n",
       "      <td>2 Bed Flat, Turner House, WC2R</td>\n",
       "      <td>£6,000 per month</td>\n",
       "      <td>0.43 km</td>\n",
       "      <td>2.0</td>\n",
       "      <td>2</td>\n",
       "      <td>Furnished</td>\n",
       "    </tr>\n",
       "    <tr>\n",
       "      <th>4</th>\n",
       "      <td>Studio Flat, Shaftesbury Avenue, W1D</td>\n",
       "      <td>£1,950 per month</td>\n",
       "      <td>0.57 km</td>\n",
       "      <td>NaN</td>\n",
       "      <td>1</td>\n",
       "      <td>Furnished</td>\n",
       "    </tr>\n",
       "  </tbody>\n",
       "</table>\n",
       "</div>"
      ],
      "text/plain": [
       "                                  Title             Price     Area  Bed  Bath  \\\n",
       "0     2 Bed Flat, Villiers Street, WC2N  £2,600 per month  0.29 km  2.0     1   \n",
       "1         2 Bed Flat, Bedfordbury, WC2N  £8,333 per month   0.4 km  2.0     2   \n",
       "2      1 Bed Flat, Bedford Street, WC2E  £2,362 per month  0.42 km  1.0     1   \n",
       "3        2 Bed Flat, Turner House, WC2R  £6,000 per month  0.43 km  2.0     2   \n",
       "4  Studio Flat, Shaftesbury Avenue, W1D  £1,950 per month  0.57 km  NaN     1   \n",
       "\n",
       "     Furnished  \n",
       "0    Furnished  \n",
       "1    Furnished  \n",
       "2  Unfurnished  \n",
       "3    Furnished  \n",
       "4    Furnished  "
      ]
     },
     "execution_count": 4,
     "metadata": {},
     "output_type": "execute_result"
    }
   ],
   "source": [
    "June.head()"
   ]
  },
  {
   "cell_type": "code",
   "execution_count": 5,
   "id": "0399618a",
   "metadata": {},
   "outputs": [
    {
     "data": {
      "text/html": [
       "<div>\n",
       "<style scoped>\n",
       "    .dataframe tbody tr th:only-of-type {\n",
       "        vertical-align: middle;\n",
       "    }\n",
       "\n",
       "    .dataframe tbody tr th {\n",
       "        vertical-align: top;\n",
       "    }\n",
       "\n",
       "    .dataframe thead th {\n",
       "        text-align: right;\n",
       "    }\n",
       "</style>\n",
       "<table border=\"1\" class=\"dataframe\">\n",
       "  <thead>\n",
       "    <tr style=\"text-align: right;\">\n",
       "      <th></th>\n",
       "      <th>Title</th>\n",
       "      <th>Price</th>\n",
       "      <th>Area</th>\n",
       "      <th>Bed</th>\n",
       "      <th>Bath</th>\n",
       "      <th>Furnished</th>\n",
       "    </tr>\n",
       "  </thead>\n",
       "  <tbody>\n",
       "    <tr>\n",
       "      <th>0</th>\n",
       "      <td>Room in a Shared Flat, London, E14</td>\n",
       "      <td>£1,100 per month</td>\n",
       "      <td>0.02 km</td>\n",
       "      <td>NaN</td>\n",
       "      <td>1</td>\n",
       "      <td>Furnishing at tenant choice</td>\n",
       "    </tr>\n",
       "    <tr>\n",
       "      <th>1</th>\n",
       "      <td>3 Bed Flat, Norway House, SW1Y</td>\n",
       "      <td>£6,500 per month</td>\n",
       "      <td>0.15 km</td>\n",
       "      <td>3.0</td>\n",
       "      <td>2</td>\n",
       "      <td>Furnished</td>\n",
       "    </tr>\n",
       "    <tr>\n",
       "      <th>2</th>\n",
       "      <td>Studio Flat, Craven Street, WC2N</td>\n",
       "      <td>£1,800 per month</td>\n",
       "      <td>0.23 km</td>\n",
       "      <td>NaN</td>\n",
       "      <td>1</td>\n",
       "      <td>Furnished</td>\n",
       "    </tr>\n",
       "    <tr>\n",
       "      <th>3</th>\n",
       "      <td>1 Bed Flat, Craven Street, WC2N</td>\n",
       "      <td>£1,800 per month</td>\n",
       "      <td>0.23 km</td>\n",
       "      <td>1.0</td>\n",
       "      <td>1</td>\n",
       "      <td>Furnished</td>\n",
       "    </tr>\n",
       "    <tr>\n",
       "      <th>4</th>\n",
       "      <td>1 Bed Flat, Oxendon Street, SW1Y</td>\n",
       "      <td>£2,470 per month</td>\n",
       "      <td>0.34 km</td>\n",
       "      <td>1.0</td>\n",
       "      <td>1</td>\n",
       "      <td>Furnished</td>\n",
       "    </tr>\n",
       "  </tbody>\n",
       "</table>\n",
       "</div>"
      ],
      "text/plain": [
       "                                Title             Price     Area  Bed  Bath  \\\n",
       "0  Room in a Shared Flat, London, E14  £1,100 per month  0.02 km  NaN     1   \n",
       "1      3 Bed Flat, Norway House, SW1Y  £6,500 per month  0.15 km  3.0     2   \n",
       "2    Studio Flat, Craven Street, WC2N  £1,800 per month  0.23 km  NaN     1   \n",
       "3     1 Bed Flat, Craven Street, WC2N  £1,800 per month  0.23 km  1.0     1   \n",
       "4    1 Bed Flat, Oxendon Street, SW1Y  £2,470 per month  0.34 km  1.0     1   \n",
       "\n",
       "                     Furnished  \n",
       "0  Furnishing at tenant choice  \n",
       "1                    Furnished  \n",
       "2                    Furnished  \n",
       "3                    Furnished  \n",
       "4                    Furnished  "
      ]
     },
     "execution_count": 5,
     "metadata": {},
     "output_type": "execute_result"
    }
   ],
   "source": [
    "July.head()"
   ]
  },
  {
   "cell_type": "markdown",
   "id": "5e99872c",
   "metadata": {},
   "source": [
    "Inspect the data info of one of the datasets"
   ]
  },
  {
   "cell_type": "code",
   "execution_count": 6,
   "id": "cddeb493",
   "metadata": {},
   "outputs": [
    {
     "name": "stdout",
     "output_type": "stream",
     "text": [
      "<class 'pandas.core.frame.DataFrame'>\n",
      "RangeIndex: 2281 entries, 0 to 2280\n",
      "Data columns (total 6 columns):\n",
      " #   Column     Non-Null Count  Dtype  \n",
      "---  ------     --------------  -----  \n",
      " 0   Title      2281 non-null   object \n",
      " 1   Price      2241 non-null   object \n",
      " 2   Area       2281 non-null   object \n",
      " 3   Bed        1641 non-null   float64\n",
      " 4   Bath       2281 non-null   int64  \n",
      " 5   Furnished  2281 non-null   object \n",
      "dtypes: float64(1), int64(1), object(4)\n",
      "memory usage: 107.0+ KB\n"
     ]
    }
   ],
   "source": [
    "July.info()"
   ]
  },
  {
   "cell_type": "code",
   "execution_count": 7,
   "id": "29a2bc53",
   "metadata": {},
   "outputs": [
    {
     "data": {
      "text/plain": [
       "(6237, 7)"
      ]
     },
     "execution_count": 7,
     "metadata": {},
     "output_type": "execute_result"
    }
   ],
   "source": [
    "# Add a column month and Concat the data\n",
    "May[\"Month\"] = \"May\"\n",
    "June[\"Month\"] = \"June\"\n",
    "July[\"Month\"] = \"July\"\n",
    "\n",
    "# Concat the data rowwise\n",
    "df = pd.concat([May, June, July])\n",
    "# verify the operation\n",
    "df.shape"
   ]
  },
  {
   "cell_type": "markdown",
   "id": "adceccff",
   "metadata": {},
   "source": [
    "**Strip the units from price(Euro sign) and area(km)**"
   ]
  },
  {
   "cell_type": "code",
   "execution_count": 8,
   "id": "ca8a8c21",
   "metadata": {
    "scrolled": false
   },
   "outputs": [],
   "source": [
    "# Strip the Units\n",
    "df[\"Area\"] = df[\"Area\"].str.strip(\"km\")\n",
    "\n",
    "df[\"Price\"] = df[\"Price\"].str.strip(\"£\")\n",
    "df[\"Price\"] = df[\"Price\"].str.strip(\"per month\")\n",
    "df[\"Price\"] = df[\"Price\"].str.replace(\",\", \"\")"
   ]
  },
  {
   "cell_type": "code",
   "execution_count": 9,
   "id": "643dc3fa",
   "metadata": {},
   "outputs": [
    {
     "data": {
      "text/html": [
       "<div>\n",
       "<style scoped>\n",
       "    .dataframe tbody tr th:only-of-type {\n",
       "        vertical-align: middle;\n",
       "    }\n",
       "\n",
       "    .dataframe tbody tr th {\n",
       "        vertical-align: top;\n",
       "    }\n",
       "\n",
       "    .dataframe thead th {\n",
       "        text-align: right;\n",
       "    }\n",
       "</style>\n",
       "<table border=\"1\" class=\"dataframe\">\n",
       "  <thead>\n",
       "    <tr style=\"text-align: right;\">\n",
       "      <th></th>\n",
       "      <th>Title</th>\n",
       "      <th>Price</th>\n",
       "      <th>Area</th>\n",
       "      <th>Bed</th>\n",
       "      <th>Bath</th>\n",
       "      <th>Furnished</th>\n",
       "      <th>Month</th>\n",
       "    </tr>\n",
       "  </thead>\n",
       "  <tbody>\n",
       "    <tr>\n",
       "      <th>0</th>\n",
       "      <td>2 Bed Flat, Turner House, WC2R</td>\n",
       "      <td>5000.0</td>\n",
       "      <td>0.43</td>\n",
       "      <td>2.0</td>\n",
       "      <td>2</td>\n",
       "      <td>Furnished</td>\n",
       "      <td>May</td>\n",
       "    </tr>\n",
       "    <tr>\n",
       "      <th>1</th>\n",
       "      <td>1 Bed Flat, Bank Chambers, SW1Y</td>\n",
       "      <td>2578.0</td>\n",
       "      <td>0.56</td>\n",
       "      <td>1.0</td>\n",
       "      <td>1</td>\n",
       "      <td>Furnished</td>\n",
       "      <td>May</td>\n",
       "    </tr>\n",
       "    <tr>\n",
       "      <th>2</th>\n",
       "      <td>Studio Flat, Shaftesbury Avenue, W1D</td>\n",
       "      <td>2000.0</td>\n",
       "      <td>0.57</td>\n",
       "      <td>NaN</td>\n",
       "      <td>1</td>\n",
       "      <td>Furnished</td>\n",
       "      <td>May</td>\n",
       "    </tr>\n",
       "    <tr>\n",
       "      <th>3</th>\n",
       "      <td>2 Bed Flat, Rupert Street, W1D</td>\n",
       "      <td>3000.0</td>\n",
       "      <td>0.65</td>\n",
       "      <td>2.0</td>\n",
       "      <td>2</td>\n",
       "      <td>Furnished</td>\n",
       "      <td>May</td>\n",
       "    </tr>\n",
       "    <tr>\n",
       "      <th>4</th>\n",
       "      <td>1 Bed Flat, Old Compton Street, W1D</td>\n",
       "      <td>1950.0</td>\n",
       "      <td>0.73</td>\n",
       "      <td>1.0</td>\n",
       "      <td>1</td>\n",
       "      <td>Furnished</td>\n",
       "      <td>May</td>\n",
       "    </tr>\n",
       "  </tbody>\n",
       "</table>\n",
       "</div>"
      ],
      "text/plain": [
       "                                  Title   Price  Area  Bed  Bath  Furnished  \\\n",
       "0        2 Bed Flat, Turner House, WC2R  5000.0  0.43  2.0     2  Furnished   \n",
       "1       1 Bed Flat, Bank Chambers, SW1Y  2578.0  0.56  1.0     1  Furnished   \n",
       "2  Studio Flat, Shaftesbury Avenue, W1D  2000.0  0.57  NaN     1  Furnished   \n",
       "3        2 Bed Flat, Rupert Street, W1D  3000.0  0.65  2.0     2  Furnished   \n",
       "4   1 Bed Flat, Old Compton Street, W1D  1950.0  0.73  1.0     1  Furnished   \n",
       "\n",
       "  Month  \n",
       "0   May  \n",
       "1   May  \n",
       "2   May  \n",
       "3   May  \n",
       "4   May  "
      ]
     },
     "execution_count": 9,
     "metadata": {},
     "output_type": "execute_result"
    }
   ],
   "source": [
    "# convert to numeric\n",
    "df[\"Area\"] = pd.to_numeric(df[\"Area\"])\n",
    "df[\"Price\"] = pd.to_numeric(df[\"Price\"])\n",
    "\n",
    "df.head()"
   ]
  },
  {
   "cell_type": "code",
   "execution_count": 10,
   "id": "7446db12",
   "metadata": {},
   "outputs": [
    {
     "data": {
      "text/plain": [
       "Title           0\n",
       "Price         120\n",
       "Area            0\n",
       "Bed          1802\n",
       "Bath            0\n",
       "Furnished       0\n",
       "Month           0\n",
       "dtype: int64"
      ]
     },
     "execution_count": 10,
     "metadata": {},
     "output_type": "execute_result"
    }
   ],
   "source": [
    "df.isna().sum()"
   ]
  },
  {
   "cell_type": "code",
   "execution_count": 11,
   "id": "88fdfb6b",
   "metadata": {},
   "outputs": [],
   "source": [
    "df[\"Price\"].fillna(df[\"Price\"].mean(), inplace=True)\n",
    "df[\"Bed\"].fillna(df[\"Bed\"].mean(), inplace=True)"
   ]
  },
  {
   "cell_type": "code",
   "execution_count": 12,
   "id": "30d9761b",
   "metadata": {},
   "outputs": [
    {
     "data": {
      "text/plain": [
       "289"
      ]
     },
     "execution_count": 12,
     "metadata": {},
     "output_type": "execute_result"
    }
   ],
   "source": [
    "df.duplicated().sum()"
   ]
  },
  {
   "cell_type": "code",
   "execution_count": 13,
   "id": "2ef9fd0a",
   "metadata": {},
   "outputs": [
    {
     "data": {
      "text/plain": [
       "0"
      ]
     },
     "execution_count": 13,
     "metadata": {},
     "output_type": "execute_result"
    }
   ],
   "source": [
    "# drop the duplicate rows while keeping the first one\n",
    "df.drop_duplicates(keep=\"first\", inplace=True)\n",
    "df.duplicated().sum() #check again"
   ]
  },
  {
   "cell_type": "markdown",
   "id": "fa462854",
   "metadata": {},
   "source": [
    "## Data Visualization and Analysis"
   ]
  },
  {
   "cell_type": "code",
   "execution_count": null,
   "id": "3c5bbb30",
   "metadata": {},
   "outputs": [],
   "source": []
  }
 ],
 "metadata": {
  "kernelspec": {
   "display_name": "Python 3 (ipykernel)",
   "language": "python",
   "name": "python3"
  },
  "language_info": {
   "codemirror_mode": {
    "name": "ipython",
    "version": 3
   },
   "file_extension": ".py",
   "mimetype": "text/x-python",
   "name": "python",
   "nbconvert_exporter": "python",
   "pygments_lexer": "ipython3",
   "version": "3.8.10"
  }
 },
 "nbformat": 4,
 "nbformat_minor": 5
}
